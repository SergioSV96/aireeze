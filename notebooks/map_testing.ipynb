{
 "metadata": {
  "language_info": {
   "codemirror_mode": {
    "name": "ipython",
    "version": 3
   },
   "file_extension": ".py",
   "mimetype": "text/x-python",
   "name": "python",
   "nbconvert_exporter": "python",
   "pygments_lexer": "ipython3",
   "version": "3.8.4"
  },
  "orig_nbformat": 2,
  "kernelspec": {
   "name": "python3",
   "display_name": "Python 3.8.4 64-bit",
   "metadata": {
    "interpreter": {
     "hash": "999a11fb286caebacdf067aaf2d1189fa6069d92a8140de3803df65936171541"
    }
   }
  }
 },
 "nbformat": 4,
 "nbformat_minor": 2,
 "cells": [
  {
   "cell_type": "code",
   "execution_count": 3,
   "metadata": {},
   "outputs": [],
   "source": [
    "import pandas as pd\n",
    "import plotly.express as px"
   ]
  },
  {
   "cell_type": "code",
   "execution_count": 4,
   "metadata": {},
   "outputs": [
    {
     "output_type": "execute_result",
     "data": {
      "text/plain": [
       "             date station  altitude  average_temperature  rainfall  \\\n",
       "0      2001-01-01    2462      1894                  0.3      10.1   \n",
       "1      2001-01-01   3100B       540                 10.8       5.5   \n",
       "2      2001-01-01   3110C      1030                  4.6       4.9   \n",
       "3      2001-01-01    3129       609                  7.2       3.3   \n",
       "4      2001-01-01    3175       607                  8.4       3.6   \n",
       "...           ...     ...       ...                  ...       ...   \n",
       "88218  2020-12-31    3195       667                  2.8       1.0   \n",
       "88219  2020-12-31    3196       690                  3.2       0.0   \n",
       "88220  2020-12-31    3200       620                  2.5       0.3   \n",
       "88221  2020-12-31   3266A      1532                 -2.1       3.3   \n",
       "88222  2020-12-31    3338       763                  2.6       0.2   \n",
       "\n",
       "       minimum_temperature  maximum_temperature  average_wind_speed  \\\n",
       "0                     -1.0                  1.6                 7.5   \n",
       "1                      8.2                 13.3                 2.5   \n",
       "2                      2.2                  7.1                 2.5   \n",
       "3                      3.8                 10.6                 3.6   \n",
       "4                      5.3                 11.5                 3.6   \n",
       "...                    ...                  ...                 ...   \n",
       "88218                 -1.2                  6.9                 NaN   \n",
       "88219                 -1.7                  8.0                 4.4   \n",
       "88220                 -2.2                  7.2                 4.2   \n",
       "88221                 -3.8                 -0.4                 5.3   \n",
       "88222                 -2.3                  7.6                 1.7   \n",
       "\n",
       "       maximum_ultraviolet_index  maximum_pressure  minimum_pressure  \\\n",
       "0                            0.0             806.3             800.1   \n",
       "1                            NaN               NaN               NaN   \n",
       "2                            NaN               NaN               NaN   \n",
       "3                            0.1             948.6             939.7   \n",
       "4                            0.0             944.6             936.6   \n",
       "...                          ...               ...               ...   \n",
       "88218                        NaN             940.3             929.7   \n",
       "88219                        6.8             937.7             929.1   \n",
       "88220                        5.3             945.8             937.0   \n",
       "88221                        NaN             844.4             836.1   \n",
       "88222                        NaN             929.2             920.6   \n",
       "\n",
       "       wind_direction  maximum_wind_speed  \n",
       "0                 NaN                 NaN  \n",
       "1                99.0                 9.7  \n",
       "2                15.0                 8.9  \n",
       "3                25.0                14.4  \n",
       "4                21.0                11.4  \n",
       "...               ...                 ...  \n",
       "88218             NaN                 NaN  \n",
       "88219            24.0                12.8  \n",
       "88220            26.0                11.9  \n",
       "88221            29.0                25.6  \n",
       "88222            35.0                13.1  \n",
       "\n",
       "[88223 rows x 13 columns]"
      ],
      "text/html": "<div>\n<style scoped>\n    .dataframe tbody tr th:only-of-type {\n        vertical-align: middle;\n    }\n\n    .dataframe tbody tr th {\n        vertical-align: top;\n    }\n\n    .dataframe thead th {\n        text-align: right;\n    }\n</style>\n<table border=\"1\" class=\"dataframe\">\n  <thead>\n    <tr style=\"text-align: right;\">\n      <th></th>\n      <th>date</th>\n      <th>station</th>\n      <th>altitude</th>\n      <th>average_temperature</th>\n      <th>rainfall</th>\n      <th>minimum_temperature</th>\n      <th>maximum_temperature</th>\n      <th>average_wind_speed</th>\n      <th>maximum_ultraviolet_index</th>\n      <th>maximum_pressure</th>\n      <th>minimum_pressure</th>\n      <th>wind_direction</th>\n      <th>maximum_wind_speed</th>\n    </tr>\n  </thead>\n  <tbody>\n    <tr>\n      <th>0</th>\n      <td>2001-01-01</td>\n      <td>2462</td>\n      <td>1894</td>\n      <td>0.3</td>\n      <td>10.1</td>\n      <td>-1.0</td>\n      <td>1.6</td>\n      <td>7.5</td>\n      <td>0.0</td>\n      <td>806.3</td>\n      <td>800.1</td>\n      <td>NaN</td>\n      <td>NaN</td>\n    </tr>\n    <tr>\n      <th>1</th>\n      <td>2001-01-01</td>\n      <td>3100B</td>\n      <td>540</td>\n      <td>10.8</td>\n      <td>5.5</td>\n      <td>8.2</td>\n      <td>13.3</td>\n      <td>2.5</td>\n      <td>NaN</td>\n      <td>NaN</td>\n      <td>NaN</td>\n      <td>99.0</td>\n      <td>9.7</td>\n    </tr>\n    <tr>\n      <th>2</th>\n      <td>2001-01-01</td>\n      <td>3110C</td>\n      <td>1030</td>\n      <td>4.6</td>\n      <td>4.9</td>\n      <td>2.2</td>\n      <td>7.1</td>\n      <td>2.5</td>\n      <td>NaN</td>\n      <td>NaN</td>\n      <td>NaN</td>\n      <td>15.0</td>\n      <td>8.9</td>\n    </tr>\n    <tr>\n      <th>3</th>\n      <td>2001-01-01</td>\n      <td>3129</td>\n      <td>609</td>\n      <td>7.2</td>\n      <td>3.3</td>\n      <td>3.8</td>\n      <td>10.6</td>\n      <td>3.6</td>\n      <td>0.1</td>\n      <td>948.6</td>\n      <td>939.7</td>\n      <td>25.0</td>\n      <td>14.4</td>\n    </tr>\n    <tr>\n      <th>4</th>\n      <td>2001-01-01</td>\n      <td>3175</td>\n      <td>607</td>\n      <td>8.4</td>\n      <td>3.6</td>\n      <td>5.3</td>\n      <td>11.5</td>\n      <td>3.6</td>\n      <td>0.0</td>\n      <td>944.6</td>\n      <td>936.6</td>\n      <td>21.0</td>\n      <td>11.4</td>\n    </tr>\n    <tr>\n      <th>...</th>\n      <td>...</td>\n      <td>...</td>\n      <td>...</td>\n      <td>...</td>\n      <td>...</td>\n      <td>...</td>\n      <td>...</td>\n      <td>...</td>\n      <td>...</td>\n      <td>...</td>\n      <td>...</td>\n      <td>...</td>\n      <td>...</td>\n    </tr>\n    <tr>\n      <th>88218</th>\n      <td>2020-12-31</td>\n      <td>3195</td>\n      <td>667</td>\n      <td>2.8</td>\n      <td>1.0</td>\n      <td>-1.2</td>\n      <td>6.9</td>\n      <td>NaN</td>\n      <td>NaN</td>\n      <td>940.3</td>\n      <td>929.7</td>\n      <td>NaN</td>\n      <td>NaN</td>\n    </tr>\n    <tr>\n      <th>88219</th>\n      <td>2020-12-31</td>\n      <td>3196</td>\n      <td>690</td>\n      <td>3.2</td>\n      <td>0.0</td>\n      <td>-1.7</td>\n      <td>8.0</td>\n      <td>4.4</td>\n      <td>6.8</td>\n      <td>937.7</td>\n      <td>929.1</td>\n      <td>24.0</td>\n      <td>12.8</td>\n    </tr>\n    <tr>\n      <th>88220</th>\n      <td>2020-12-31</td>\n      <td>3200</td>\n      <td>620</td>\n      <td>2.5</td>\n      <td>0.3</td>\n      <td>-2.2</td>\n      <td>7.2</td>\n      <td>4.2</td>\n      <td>5.3</td>\n      <td>945.8</td>\n      <td>937.0</td>\n      <td>26.0</td>\n      <td>11.9</td>\n    </tr>\n    <tr>\n      <th>88221</th>\n      <td>2020-12-31</td>\n      <td>3266A</td>\n      <td>1532</td>\n      <td>-2.1</td>\n      <td>3.3</td>\n      <td>-3.8</td>\n      <td>-0.4</td>\n      <td>5.3</td>\n      <td>NaN</td>\n      <td>844.4</td>\n      <td>836.1</td>\n      <td>29.0</td>\n      <td>25.6</td>\n    </tr>\n    <tr>\n      <th>88222</th>\n      <td>2020-12-31</td>\n      <td>3338</td>\n      <td>763</td>\n      <td>2.6</td>\n      <td>0.2</td>\n      <td>-2.3</td>\n      <td>7.6</td>\n      <td>1.7</td>\n      <td>NaN</td>\n      <td>929.2</td>\n      <td>920.6</td>\n      <td>35.0</td>\n      <td>13.1</td>\n    </tr>\n  </tbody>\n</table>\n<p>88223 rows × 13 columns</p>\n</div>"
     },
     "metadata": {},
     "execution_count": 4
    }
   ],
   "source": [
    "weather = pd.read_csv(\"../data/processed/weather.csv\")\n",
    "weather"
   ]
  },
  {
   "cell_type": "code",
   "execution_count": 5,
   "metadata": {},
   "outputs": [
    {
     "output_type": "execute_result",
     "data": {
      "text/plain": [
       "     latitud provincia  altitud indicativo                        nombre  \\\n",
       "73   404735N    MADRID     1894       2462         PUERTO DE NAVACERRADA   \n",
       "108  400402N    MADRID      540      3100B                      ARANJUEZ   \n",
       "109  410025N    MADRID     1030      3110C           BUITRAGO DEL LOZOYA   \n",
       "110  404146N    MADRID     1004      3191E                COLMENAR VIEJO   \n",
       "111  401758N    MADRID      620       3200                        GETAFE   \n",
       "112  402800N    MADRID      609       3129             MADRID AEROPUERTO   \n",
       "113  402706N    MADRID      664      3194U  MADRID, CIUDAD UNIVERSITARIA   \n",
       "114  402232N    MADRID      690       3196        MADRID, CUATRO VIENTOS   \n",
       "115  402443N    MADRID      667       3195                MADRID, RETIRO   \n",
       "116  404223N    MADRID     1532      3266A          PUERTO ALTO DEL LEÓN   \n",
       "117  402540N    MADRID      763       3338            ROBLEDO DE CHAVELA   \n",
       "118  410808N    MADRID     1450      3111D                    SOMOSIERRA   \n",
       "119  402919N    MADRID      607       3175             TORREJÓN DE ARDOZ   \n",
       "\n",
       "    indsinop longitud  \n",
       "73     08215  040038W  \n",
       "108    08229  033246W  \n",
       "109    08146  033649W  \n",
       "110    08219  034554W  \n",
       "111    08224  034320W  \n",
       "112    08221  033320W  \n",
       "113    08220  034327W  \n",
       "114    08223  034710W  \n",
       "115    08222  034041W  \n",
       "116    08217  040831W  \n",
       "117    08212  041500W  \n",
       "118    08145  033449W  \n",
       "119    08227  032637W  "
      ],
      "text/html": "<div>\n<style scoped>\n    .dataframe tbody tr th:only-of-type {\n        vertical-align: middle;\n    }\n\n    .dataframe tbody tr th {\n        vertical-align: top;\n    }\n\n    .dataframe thead th {\n        text-align: right;\n    }\n</style>\n<table border=\"1\" class=\"dataframe\">\n  <thead>\n    <tr style=\"text-align: right;\">\n      <th></th>\n      <th>latitud</th>\n      <th>provincia</th>\n      <th>altitud</th>\n      <th>indicativo</th>\n      <th>nombre</th>\n      <th>indsinop</th>\n      <th>longitud</th>\n    </tr>\n  </thead>\n  <tbody>\n    <tr>\n      <th>73</th>\n      <td>404735N</td>\n      <td>MADRID</td>\n      <td>1894</td>\n      <td>2462</td>\n      <td>PUERTO DE NAVACERRADA</td>\n      <td>08215</td>\n      <td>040038W</td>\n    </tr>\n    <tr>\n      <th>108</th>\n      <td>400402N</td>\n      <td>MADRID</td>\n      <td>540</td>\n      <td>3100B</td>\n      <td>ARANJUEZ</td>\n      <td>08229</td>\n      <td>033246W</td>\n    </tr>\n    <tr>\n      <th>109</th>\n      <td>410025N</td>\n      <td>MADRID</td>\n      <td>1030</td>\n      <td>3110C</td>\n      <td>BUITRAGO DEL LOZOYA</td>\n      <td>08146</td>\n      <td>033649W</td>\n    </tr>\n    <tr>\n      <th>110</th>\n      <td>404146N</td>\n      <td>MADRID</td>\n      <td>1004</td>\n      <td>3191E</td>\n      <td>COLMENAR VIEJO</td>\n      <td>08219</td>\n      <td>034554W</td>\n    </tr>\n    <tr>\n      <th>111</th>\n      <td>401758N</td>\n      <td>MADRID</td>\n      <td>620</td>\n      <td>3200</td>\n      <td>GETAFE</td>\n      <td>08224</td>\n      <td>034320W</td>\n    </tr>\n    <tr>\n      <th>112</th>\n      <td>402800N</td>\n      <td>MADRID</td>\n      <td>609</td>\n      <td>3129</td>\n      <td>MADRID AEROPUERTO</td>\n      <td>08221</td>\n      <td>033320W</td>\n    </tr>\n    <tr>\n      <th>113</th>\n      <td>402706N</td>\n      <td>MADRID</td>\n      <td>664</td>\n      <td>3194U</td>\n      <td>MADRID, CIUDAD UNIVERSITARIA</td>\n      <td>08220</td>\n      <td>034327W</td>\n    </tr>\n    <tr>\n      <th>114</th>\n      <td>402232N</td>\n      <td>MADRID</td>\n      <td>690</td>\n      <td>3196</td>\n      <td>MADRID, CUATRO VIENTOS</td>\n      <td>08223</td>\n      <td>034710W</td>\n    </tr>\n    <tr>\n      <th>115</th>\n      <td>402443N</td>\n      <td>MADRID</td>\n      <td>667</td>\n      <td>3195</td>\n      <td>MADRID, RETIRO</td>\n      <td>08222</td>\n      <td>034041W</td>\n    </tr>\n    <tr>\n      <th>116</th>\n      <td>404223N</td>\n      <td>MADRID</td>\n      <td>1532</td>\n      <td>3266A</td>\n      <td>PUERTO ALTO DEL LEÓN</td>\n      <td>08217</td>\n      <td>040831W</td>\n    </tr>\n    <tr>\n      <th>117</th>\n      <td>402540N</td>\n      <td>MADRID</td>\n      <td>763</td>\n      <td>3338</td>\n      <td>ROBLEDO DE CHAVELA</td>\n      <td>08212</td>\n      <td>041500W</td>\n    </tr>\n    <tr>\n      <th>118</th>\n      <td>410808N</td>\n      <td>MADRID</td>\n      <td>1450</td>\n      <td>3111D</td>\n      <td>SOMOSIERRA</td>\n      <td>08145</td>\n      <td>033449W</td>\n    </tr>\n    <tr>\n      <th>119</th>\n      <td>402919N</td>\n      <td>MADRID</td>\n      <td>607</td>\n      <td>3175</td>\n      <td>TORREJÓN DE ARDOZ</td>\n      <td>08227</td>\n      <td>032637W</td>\n    </tr>\n  </tbody>\n</table>\n</div>"
     },
     "metadata": {},
     "execution_count": 5
    }
   ],
   "source": [
    "weather_stations = pd.read_json(\"weather_stations.json\")\n",
    "weather_stations.query(\"provincia == 'MADRID'\", inplace=True)\n",
    "weather_stations"
   ]
  },
  {
   "cell_type": "code",
   "execution_count": 6,
   "metadata": {},
   "outputs": [
    {
     "output_type": "execute_result",
     "data": {
      "text/plain": [
       "     latitud provincia  altitud indicativo                        nombre  \\\n",
       "73   404735N    MADRID     1894       2462         PUERTO DE NAVACERRADA   \n",
       "108  400402N    MADRID      540      3100B                      ARANJUEZ   \n",
       "109  410025N    MADRID     1030      3110C           BUITRAGO DEL LOZOYA   \n",
       "110  404146N    MADRID     1004      3191E                COLMENAR VIEJO   \n",
       "111  401758N    MADRID      620       3200                        GETAFE   \n",
       "112  402800N    MADRID      609       3129             MADRID AEROPUERTO   \n",
       "113  402706N    MADRID      664      3194U  MADRID, CIUDAD UNIVERSITARIA   \n",
       "114  402232N    MADRID      690       3196        MADRID, CUATRO VIENTOS   \n",
       "115  402443N    MADRID      667       3195                MADRID, RETIRO   \n",
       "116  404223N    MADRID     1532      3266A          PUERTO ALTO DEL LEÓN   \n",
       "117  402540N    MADRID      763       3338            ROBLEDO DE CHAVELA   \n",
       "118  410808N    MADRID     1450      3111D                    SOMOSIERRA   \n",
       "119  402919N    MADRID      607       3175             TORREJÓN DE ARDOZ   \n",
       "\n",
       "    indsinop longitud  \n",
       "73     08215  040038W  \n",
       "108    08229  033246W  \n",
       "109    08146  033649W  \n",
       "110    08219  034554W  \n",
       "111    08224  034320W  \n",
       "112    08221  033320W  \n",
       "113    08220  034327W  \n",
       "114    08223  034710W  \n",
       "115    08222  034041W  \n",
       "116    08217  040831W  \n",
       "117    08212  041500W  \n",
       "118    08145  033449W  \n",
       "119    08227  032637W  "
      ],
      "text/html": "<div>\n<style scoped>\n    .dataframe tbody tr th:only-of-type {\n        vertical-align: middle;\n    }\n\n    .dataframe tbody tr th {\n        vertical-align: top;\n    }\n\n    .dataframe thead th {\n        text-align: right;\n    }\n</style>\n<table border=\"1\" class=\"dataframe\">\n  <thead>\n    <tr style=\"text-align: right;\">\n      <th></th>\n      <th>latitud</th>\n      <th>provincia</th>\n      <th>altitud</th>\n      <th>indicativo</th>\n      <th>nombre</th>\n      <th>indsinop</th>\n      <th>longitud</th>\n    </tr>\n  </thead>\n  <tbody>\n    <tr>\n      <th>73</th>\n      <td>404735N</td>\n      <td>MADRID</td>\n      <td>1894</td>\n      <td>2462</td>\n      <td>PUERTO DE NAVACERRADA</td>\n      <td>08215</td>\n      <td>040038W</td>\n    </tr>\n    <tr>\n      <th>108</th>\n      <td>400402N</td>\n      <td>MADRID</td>\n      <td>540</td>\n      <td>3100B</td>\n      <td>ARANJUEZ</td>\n      <td>08229</td>\n      <td>033246W</td>\n    </tr>\n    <tr>\n      <th>109</th>\n      <td>410025N</td>\n      <td>MADRID</td>\n      <td>1030</td>\n      <td>3110C</td>\n      <td>BUITRAGO DEL LOZOYA</td>\n      <td>08146</td>\n      <td>033649W</td>\n    </tr>\n    <tr>\n      <th>110</th>\n      <td>404146N</td>\n      <td>MADRID</td>\n      <td>1004</td>\n      <td>3191E</td>\n      <td>COLMENAR VIEJO</td>\n      <td>08219</td>\n      <td>034554W</td>\n    </tr>\n    <tr>\n      <th>111</th>\n      <td>401758N</td>\n      <td>MADRID</td>\n      <td>620</td>\n      <td>3200</td>\n      <td>GETAFE</td>\n      <td>08224</td>\n      <td>034320W</td>\n    </tr>\n    <tr>\n      <th>112</th>\n      <td>402800N</td>\n      <td>MADRID</td>\n      <td>609</td>\n      <td>3129</td>\n      <td>MADRID AEROPUERTO</td>\n      <td>08221</td>\n      <td>033320W</td>\n    </tr>\n    <tr>\n      <th>113</th>\n      <td>402706N</td>\n      <td>MADRID</td>\n      <td>664</td>\n      <td>3194U</td>\n      <td>MADRID, CIUDAD UNIVERSITARIA</td>\n      <td>08220</td>\n      <td>034327W</td>\n    </tr>\n    <tr>\n      <th>114</th>\n      <td>402232N</td>\n      <td>MADRID</td>\n      <td>690</td>\n      <td>3196</td>\n      <td>MADRID, CUATRO VIENTOS</td>\n      <td>08223</td>\n      <td>034710W</td>\n    </tr>\n    <tr>\n      <th>115</th>\n      <td>402443N</td>\n      <td>MADRID</td>\n      <td>667</td>\n      <td>3195</td>\n      <td>MADRID, RETIRO</td>\n      <td>08222</td>\n      <td>034041W</td>\n    </tr>\n    <tr>\n      <th>116</th>\n      <td>404223N</td>\n      <td>MADRID</td>\n      <td>1532</td>\n      <td>3266A</td>\n      <td>PUERTO ALTO DEL LEÓN</td>\n      <td>08217</td>\n      <td>040831W</td>\n    </tr>\n    <tr>\n      <th>117</th>\n      <td>402540N</td>\n      <td>MADRID</td>\n      <td>763</td>\n      <td>3338</td>\n      <td>ROBLEDO DE CHAVELA</td>\n      <td>08212</td>\n      <td>041500W</td>\n    </tr>\n    <tr>\n      <th>118</th>\n      <td>410808N</td>\n      <td>MADRID</td>\n      <td>1450</td>\n      <td>3111D</td>\n      <td>SOMOSIERRA</td>\n      <td>08145</td>\n      <td>033449W</td>\n    </tr>\n    <tr>\n      <th>119</th>\n      <td>402919N</td>\n      <td>MADRID</td>\n      <td>607</td>\n      <td>3175</td>\n      <td>TORREJÓN DE ARDOZ</td>\n      <td>08227</td>\n      <td>032637W</td>\n    </tr>\n  </tbody>\n</table>\n</div>"
     },
     "metadata": {},
     "execution_count": 6
    }
   ],
   "source": [
    "#weather_stations.query('nombre.str.contains(\"MADRID\")', engine='python', inplace=True)\n",
    "weather_stations"
   ]
  },
  {
   "cell_type": "code",
   "execution_count": 7,
   "metadata": {},
   "outputs": [
    {
     "output_type": "error",
     "ename": "SyntaxError",
     "evalue": "invalid syntax (<ipython-input-7-4dfa1068fedd>, line 4)",
     "traceback": [
      "\u001b[0;36m  File \u001b[0;32m\"<ipython-input-7-4dfa1068fedd>\"\u001b[0;36m, line \u001b[0;32m4\u001b[0m\n\u001b[0;31m    string =\u001b[0m\n\u001b[0m            ^\u001b[0m\n\u001b[0;31mSyntaxError\u001b[0m\u001b[0;31m:\u001b[0m invalid syntax\n"
     ]
    }
   ],
   "source": [
    "#weather_stations[\"latitud\"] = weather_stations[\"latitud\"].apply(lambda x: float(str(x)[:2] + \".\" + str(x)[2:-1]))\n",
    "#weather_stations[\"longitud\"] = weather_stations[\"longitud\"].apply(lambda x: float(\"-\" + str(x)[:2] + \".\" + str(x)[2:-1]))\n",
    "#weather_stations\n",
    "string ="
   ]
  },
  {
   "cell_type": "code",
   "execution_count": 54,
   "metadata": {},
   "outputs": [
    {
     "output_type": "display_data",
     "data": {
      "application/vnd.plotly.v1+json": {
       "config": {
        "plotlyServerURL": "https://plot.ly"
       },
       "data": [
        {
         "hovertemplate": "latitud=%{lat}<br>longitud=%{lon}<br>altitud=%{marker.color}<extra></extra>",
         "lat": [
          40.4735,
          40.0402,
          41.0025,
          40.4146,
          40.1758,
          40.28,
          40.2706,
          40.2232,
          40.2443,
          40.4223,
          40.254,
          41.0808,
          40.2919
         ],
         "legendgroup": "",
         "lon": [
          -4.0038,
          -3.3246,
          -3.3649,
          -3.4554,
          -3.432,
          -3.332,
          -3.4327,
          -3.471,
          -3.4041,
          -4.0831,
          -4.15,
          -3.3449,
          -3.2637
         ],
         "marker": {
          "color": [
           1894,
           540,
           1030,
           1004,
           620,
           609,
           664,
           690,
           667,
           1532,
           763,
           1450,
           607
          ],
          "coloraxis": "coloraxis"
         },
         "mode": "markers",
         "name": "",
         "showlegend": false,
         "subplot": "mapbox",
         "type": "scattermapbox"
        }
       ],
       "layout": {
        "coloraxis": {
         "colorbar": {
          "title": {
           "text": "altitud"
          }
         },
         "colorscale": [
          [
           0,
           "#000000"
          ],
          [
           0.0625,
           "#001f4d"
          ],
          [
           0.125,
           "#003786"
          ],
          [
           0.1875,
           "#0e58a8"
          ],
          [
           0.25,
           "#217eb8"
          ],
          [
           0.3125,
           "#30a4ca"
          ],
          [
           0.375,
           "#54c8df"
          ],
          [
           0.4375,
           "#9be4ef"
          ],
          [
           0.5,
           "#e1e9d1"
          ],
          [
           0.5625,
           "#f3d573"
          ],
          [
           0.625,
           "#e7b000"
          ],
          [
           0.6875,
           "#da8200"
          ],
          [
           0.75,
           "#c65400"
          ],
          [
           0.8125,
           "#ac2301"
          ],
          [
           0.875,
           "#820000"
          ],
          [
           0.9375,
           "#4c0000"
          ],
          [
           1,
           "#000000"
          ]
         ]
        },
        "legend": {
         "tracegroupgap": 0
        },
        "mapbox": {
         "center": {
          "lat": 40.397976923076925,
          "lon": -3.5432461538461544
         },
         "domain": {
          "x": [
           0,
           1
          ],
          "y": [
           0,
           1
          ]
         },
         "style": "carto-positron",
         "zoom": 10
        },
        "margin": {
         "t": 60
        },
        "template": {
         "data": {
          "bar": [
           {
            "error_x": {
             "color": "#2a3f5f"
            },
            "error_y": {
             "color": "#2a3f5f"
            },
            "marker": {
             "line": {
              "color": "#E5ECF6",
              "width": 0.5
             }
            },
            "type": "bar"
           }
          ],
          "barpolar": [
           {
            "marker": {
             "line": {
              "color": "#E5ECF6",
              "width": 0.5
             }
            },
            "type": "barpolar"
           }
          ],
          "carpet": [
           {
            "aaxis": {
             "endlinecolor": "#2a3f5f",
             "gridcolor": "white",
             "linecolor": "white",
             "minorgridcolor": "white",
             "startlinecolor": "#2a3f5f"
            },
            "baxis": {
             "endlinecolor": "#2a3f5f",
             "gridcolor": "white",
             "linecolor": "white",
             "minorgridcolor": "white",
             "startlinecolor": "#2a3f5f"
            },
            "type": "carpet"
           }
          ],
          "choropleth": [
           {
            "colorbar": {
             "outlinewidth": 0,
             "ticks": ""
            },
            "type": "choropleth"
           }
          ],
          "contour": [
           {
            "colorbar": {
             "outlinewidth": 0,
             "ticks": ""
            },
            "colorscale": [
             [
              0,
              "#0d0887"
             ],
             [
              0.1111111111111111,
              "#46039f"
             ],
             [
              0.2222222222222222,
              "#7201a8"
             ],
             [
              0.3333333333333333,
              "#9c179e"
             ],
             [
              0.4444444444444444,
              "#bd3786"
             ],
             [
              0.5555555555555556,
              "#d8576b"
             ],
             [
              0.6666666666666666,
              "#ed7953"
             ],
             [
              0.7777777777777778,
              "#fb9f3a"
             ],
             [
              0.8888888888888888,
              "#fdca26"
             ],
             [
              1,
              "#f0f921"
             ]
            ],
            "type": "contour"
           }
          ],
          "contourcarpet": [
           {
            "colorbar": {
             "outlinewidth": 0,
             "ticks": ""
            },
            "type": "contourcarpet"
           }
          ],
          "heatmap": [
           {
            "colorbar": {
             "outlinewidth": 0,
             "ticks": ""
            },
            "colorscale": [
             [
              0,
              "#0d0887"
             ],
             [
              0.1111111111111111,
              "#46039f"
             ],
             [
              0.2222222222222222,
              "#7201a8"
             ],
             [
              0.3333333333333333,
              "#9c179e"
             ],
             [
              0.4444444444444444,
              "#bd3786"
             ],
             [
              0.5555555555555556,
              "#d8576b"
             ],
             [
              0.6666666666666666,
              "#ed7953"
             ],
             [
              0.7777777777777778,
              "#fb9f3a"
             ],
             [
              0.8888888888888888,
              "#fdca26"
             ],
             [
              1,
              "#f0f921"
             ]
            ],
            "type": "heatmap"
           }
          ],
          "heatmapgl": [
           {
            "colorbar": {
             "outlinewidth": 0,
             "ticks": ""
            },
            "colorscale": [
             [
              0,
              "#0d0887"
             ],
             [
              0.1111111111111111,
              "#46039f"
             ],
             [
              0.2222222222222222,
              "#7201a8"
             ],
             [
              0.3333333333333333,
              "#9c179e"
             ],
             [
              0.4444444444444444,
              "#bd3786"
             ],
             [
              0.5555555555555556,
              "#d8576b"
             ],
             [
              0.6666666666666666,
              "#ed7953"
             ],
             [
              0.7777777777777778,
              "#fb9f3a"
             ],
             [
              0.8888888888888888,
              "#fdca26"
             ],
             [
              1,
              "#f0f921"
             ]
            ],
            "type": "heatmapgl"
           }
          ],
          "histogram": [
           {
            "marker": {
             "colorbar": {
              "outlinewidth": 0,
              "ticks": ""
             }
            },
            "type": "histogram"
           }
          ],
          "histogram2d": [
           {
            "colorbar": {
             "outlinewidth": 0,
             "ticks": ""
            },
            "colorscale": [
             [
              0,
              "#0d0887"
             ],
             [
              0.1111111111111111,
              "#46039f"
             ],
             [
              0.2222222222222222,
              "#7201a8"
             ],
             [
              0.3333333333333333,
              "#9c179e"
             ],
             [
              0.4444444444444444,
              "#bd3786"
             ],
             [
              0.5555555555555556,
              "#d8576b"
             ],
             [
              0.6666666666666666,
              "#ed7953"
             ],
             [
              0.7777777777777778,
              "#fb9f3a"
             ],
             [
              0.8888888888888888,
              "#fdca26"
             ],
             [
              1,
              "#f0f921"
             ]
            ],
            "type": "histogram2d"
           }
          ],
          "histogram2dcontour": [
           {
            "colorbar": {
             "outlinewidth": 0,
             "ticks": ""
            },
            "colorscale": [
             [
              0,
              "#0d0887"
             ],
             [
              0.1111111111111111,
              "#46039f"
             ],
             [
              0.2222222222222222,
              "#7201a8"
             ],
             [
              0.3333333333333333,
              "#9c179e"
             ],
             [
              0.4444444444444444,
              "#bd3786"
             ],
             [
              0.5555555555555556,
              "#d8576b"
             ],
             [
              0.6666666666666666,
              "#ed7953"
             ],
             [
              0.7777777777777778,
              "#fb9f3a"
             ],
             [
              0.8888888888888888,
              "#fdca26"
             ],
             [
              1,
              "#f0f921"
             ]
            ],
            "type": "histogram2dcontour"
           }
          ],
          "mesh3d": [
           {
            "colorbar": {
             "outlinewidth": 0,
             "ticks": ""
            },
            "type": "mesh3d"
           }
          ],
          "parcoords": [
           {
            "line": {
             "colorbar": {
              "outlinewidth": 0,
              "ticks": ""
             }
            },
            "type": "parcoords"
           }
          ],
          "pie": [
           {
            "automargin": true,
            "type": "pie"
           }
          ],
          "scatter": [
           {
            "marker": {
             "colorbar": {
              "outlinewidth": 0,
              "ticks": ""
             }
            },
            "type": "scatter"
           }
          ],
          "scatter3d": [
           {
            "line": {
             "colorbar": {
              "outlinewidth": 0,
              "ticks": ""
             }
            },
            "marker": {
             "colorbar": {
              "outlinewidth": 0,
              "ticks": ""
             }
            },
            "type": "scatter3d"
           }
          ],
          "scattercarpet": [
           {
            "marker": {
             "colorbar": {
              "outlinewidth": 0,
              "ticks": ""
             }
            },
            "type": "scattercarpet"
           }
          ],
          "scattergeo": [
           {
            "marker": {
             "colorbar": {
              "outlinewidth": 0,
              "ticks": ""
             }
            },
            "type": "scattergeo"
           }
          ],
          "scattergl": [
           {
            "marker": {
             "colorbar": {
              "outlinewidth": 0,
              "ticks": ""
             }
            },
            "type": "scattergl"
           }
          ],
          "scattermapbox": [
           {
            "marker": {
             "colorbar": {
              "outlinewidth": 0,
              "ticks": ""
             }
            },
            "type": "scattermapbox"
           }
          ],
          "scatterpolar": [
           {
            "marker": {
             "colorbar": {
              "outlinewidth": 0,
              "ticks": ""
             }
            },
            "type": "scatterpolar"
           }
          ],
          "scatterpolargl": [
           {
            "marker": {
             "colorbar": {
              "outlinewidth": 0,
              "ticks": ""
             }
            },
            "type": "scatterpolargl"
           }
          ],
          "scatterternary": [
           {
            "marker": {
             "colorbar": {
              "outlinewidth": 0,
              "ticks": ""
             }
            },
            "type": "scatterternary"
           }
          ],
          "surface": [
           {
            "colorbar": {
             "outlinewidth": 0,
             "ticks": ""
            },
            "colorscale": [
             [
              0,
              "#0d0887"
             ],
             [
              0.1111111111111111,
              "#46039f"
             ],
             [
              0.2222222222222222,
              "#7201a8"
             ],
             [
              0.3333333333333333,
              "#9c179e"
             ],
             [
              0.4444444444444444,
              "#bd3786"
             ],
             [
              0.5555555555555556,
              "#d8576b"
             ],
             [
              0.6666666666666666,
              "#ed7953"
             ],
             [
              0.7777777777777778,
              "#fb9f3a"
             ],
             [
              0.8888888888888888,
              "#fdca26"
             ],
             [
              1,
              "#f0f921"
             ]
            ],
            "type": "surface"
           }
          ],
          "table": [
           {
            "cells": {
             "fill": {
              "color": "#EBF0F8"
             },
             "line": {
              "color": "white"
             }
            },
            "header": {
             "fill": {
              "color": "#C8D4E3"
             },
             "line": {
              "color": "white"
             }
            },
            "type": "table"
           }
          ]
         },
         "layout": {
          "annotationdefaults": {
           "arrowcolor": "#2a3f5f",
           "arrowhead": 0,
           "arrowwidth": 1
          },
          "coloraxis": {
           "colorbar": {
            "outlinewidth": 0,
            "ticks": ""
           }
          },
          "colorscale": {
           "diverging": [
            [
             0,
             "#8e0152"
            ],
            [
             0.1,
             "#c51b7d"
            ],
            [
             0.2,
             "#de77ae"
            ],
            [
             0.3,
             "#f1b6da"
            ],
            [
             0.4,
             "#fde0ef"
            ],
            [
             0.5,
             "#f7f7f7"
            ],
            [
             0.6,
             "#e6f5d0"
            ],
            [
             0.7,
             "#b8e186"
            ],
            [
             0.8,
             "#7fbc41"
            ],
            [
             0.9,
             "#4d9221"
            ],
            [
             1,
             "#276419"
            ]
           ],
           "sequential": [
            [
             0,
             "#0d0887"
            ],
            [
             0.1111111111111111,
             "#46039f"
            ],
            [
             0.2222222222222222,
             "#7201a8"
            ],
            [
             0.3333333333333333,
             "#9c179e"
            ],
            [
             0.4444444444444444,
             "#bd3786"
            ],
            [
             0.5555555555555556,
             "#d8576b"
            ],
            [
             0.6666666666666666,
             "#ed7953"
            ],
            [
             0.7777777777777778,
             "#fb9f3a"
            ],
            [
             0.8888888888888888,
             "#fdca26"
            ],
            [
             1,
             "#f0f921"
            ]
           ],
           "sequentialminus": [
            [
             0,
             "#0d0887"
            ],
            [
             0.1111111111111111,
             "#46039f"
            ],
            [
             0.2222222222222222,
             "#7201a8"
            ],
            [
             0.3333333333333333,
             "#9c179e"
            ],
            [
             0.4444444444444444,
             "#bd3786"
            ],
            [
             0.5555555555555556,
             "#d8576b"
            ],
            [
             0.6666666666666666,
             "#ed7953"
            ],
            [
             0.7777777777777778,
             "#fb9f3a"
            ],
            [
             0.8888888888888888,
             "#fdca26"
            ],
            [
             1,
             "#f0f921"
            ]
           ]
          },
          "colorway": [
           "#636efa",
           "#EF553B",
           "#00cc96",
           "#ab63fa",
           "#FFA15A",
           "#19d3f3",
           "#FF6692",
           "#B6E880",
           "#FF97FF",
           "#FECB52"
          ],
          "font": {
           "color": "#2a3f5f"
          },
          "geo": {
           "bgcolor": "white",
           "lakecolor": "white",
           "landcolor": "#E5ECF6",
           "showlakes": true,
           "showland": true,
           "subunitcolor": "white"
          },
          "hoverlabel": {
           "align": "left"
          },
          "hovermode": "closest",
          "mapbox": {
           "style": "light"
          },
          "paper_bgcolor": "white",
          "plot_bgcolor": "#E5ECF6",
          "polar": {
           "angularaxis": {
            "gridcolor": "white",
            "linecolor": "white",
            "ticks": ""
           },
           "bgcolor": "#E5ECF6",
           "radialaxis": {
            "gridcolor": "white",
            "linecolor": "white",
            "ticks": ""
           }
          },
          "scene": {
           "xaxis": {
            "backgroundcolor": "#E5ECF6",
            "gridcolor": "white",
            "gridwidth": 2,
            "linecolor": "white",
            "showbackground": true,
            "ticks": "",
            "zerolinecolor": "white"
           },
           "yaxis": {
            "backgroundcolor": "#E5ECF6",
            "gridcolor": "white",
            "gridwidth": 2,
            "linecolor": "white",
            "showbackground": true,
            "ticks": "",
            "zerolinecolor": "white"
           },
           "zaxis": {
            "backgroundcolor": "#E5ECF6",
            "gridcolor": "white",
            "gridwidth": 2,
            "linecolor": "white",
            "showbackground": true,
            "ticks": "",
            "zerolinecolor": "white"
           }
          },
          "shapedefaults": {
           "line": {
            "color": "#2a3f5f"
           }
          },
          "ternary": {
           "aaxis": {
            "gridcolor": "white",
            "linecolor": "white",
            "ticks": ""
           },
           "baxis": {
            "gridcolor": "white",
            "linecolor": "white",
            "ticks": ""
           },
           "bgcolor": "#E5ECF6",
           "caxis": {
            "gridcolor": "white",
            "linecolor": "white",
            "ticks": ""
           }
          },
          "title": {
           "x": 0.05
          },
          "xaxis": {
           "automargin": true,
           "gridcolor": "white",
           "linecolor": "white",
           "ticks": "",
           "title": {
            "standoff": 15
           },
           "zerolinecolor": "white",
           "zerolinewidth": 2
          },
          "yaxis": {
           "automargin": true,
           "gridcolor": "white",
           "linecolor": "white",
           "ticks": "",
           "title": {
            "standoff": 15
           },
           "zerolinecolor": "white",
           "zerolinewidth": 2
          }
         }
        }
       }
      },
      "text/html": "<div>\n        \n        \n            <div id=\"d72b1fcf-a688-4947-9a24-a5f4ff610110\" class=\"plotly-graph-div\" style=\"height:525px; width:100%;\"></div>\n            <script type=\"text/javascript\">\n                require([\"plotly\"], function(Plotly) {\n                    window.PLOTLYENV=window.PLOTLYENV || {};\n                    \n                if (document.getElementById(\"d72b1fcf-a688-4947-9a24-a5f4ff610110\")) {\n                    Plotly.newPlot(\n                        'd72b1fcf-a688-4947-9a24-a5f4ff610110',\n                        [{\"hovertemplate\": \"latitud=%{lat}<br>longitud=%{lon}<br>altitud=%{marker.color}<extra></extra>\", \"lat\": [40.4735, 40.0402, 41.0025, 40.4146, 40.1758, 40.28, 40.2706, 40.2232, 40.2443, 40.4223, 40.254, 41.0808, 40.2919], \"legendgroup\": \"\", \"lon\": [-4.0038, -3.3246, -3.3649, -3.4554, -3.432, -3.332, -3.4327, -3.471, -3.4041, -4.0831, -4.15, -3.3449, -3.2637], \"marker\": {\"color\": [1894, 540, 1030, 1004, 620, 609, 664, 690, 667, 1532, 763, 1450, 607], \"coloraxis\": \"coloraxis\"}, \"mode\": \"markers\", \"name\": \"\", \"showlegend\": false, \"subplot\": \"mapbox\", \"type\": \"scattermapbox\"}],\n                        {\"coloraxis\": {\"colorbar\": {\"title\": {\"text\": \"altitud\"}}, \"colorscale\": [[0.0, \"#000000\"], [0.0625, \"#001f4d\"], [0.125, \"#003786\"], [0.1875, \"#0e58a8\"], [0.25, \"#217eb8\"], [0.3125, \"#30a4ca\"], [0.375, \"#54c8df\"], [0.4375, \"#9be4ef\"], [0.5, \"#e1e9d1\"], [0.5625, \"#f3d573\"], [0.625, \"#e7b000\"], [0.6875, \"#da8200\"], [0.75, \"#c65400\"], [0.8125, \"#ac2301\"], [0.875, \"#820000\"], [0.9375, \"#4c0000\"], [1.0, \"#000000\"]]}, \"legend\": {\"tracegroupgap\": 0}, \"mapbox\": {\"center\": {\"lat\": 40.397976923076925, \"lon\": -3.5432461538461544}, \"domain\": {\"x\": [0.0, 1.0], \"y\": [0.0, 1.0]}, \"style\": \"carto-positron\", \"zoom\": 10}, \"margin\": {\"t\": 60}, \"template\": {\"data\": {\"bar\": [{\"error_x\": {\"color\": \"#2a3f5f\"}, \"error_y\": {\"color\": \"#2a3f5f\"}, \"marker\": {\"line\": {\"color\": \"#E5ECF6\", \"width\": 0.5}}, \"type\": \"bar\"}], \"barpolar\": [{\"marker\": {\"line\": {\"color\": \"#E5ECF6\", \"width\": 0.5}}, \"type\": \"barpolar\"}], \"carpet\": [{\"aaxis\": {\"endlinecolor\": \"#2a3f5f\", \"gridcolor\": \"white\", \"linecolor\": \"white\", \"minorgridcolor\": \"white\", \"startlinecolor\": \"#2a3f5f\"}, \"baxis\": {\"endlinecolor\": \"#2a3f5f\", \"gridcolor\": \"white\", \"linecolor\": \"white\", \"minorgridcolor\": \"white\", \"startlinecolor\": \"#2a3f5f\"}, \"type\": \"carpet\"}], \"choropleth\": [{\"colorbar\": {\"outlinewidth\": 0, \"ticks\": \"\"}, \"type\": \"choropleth\"}], \"contour\": [{\"colorbar\": {\"outlinewidth\": 0, \"ticks\": \"\"}, \"colorscale\": [[0.0, \"#0d0887\"], [0.1111111111111111, \"#46039f\"], [0.2222222222222222, \"#7201a8\"], [0.3333333333333333, \"#9c179e\"], [0.4444444444444444, \"#bd3786\"], [0.5555555555555556, \"#d8576b\"], [0.6666666666666666, \"#ed7953\"], [0.7777777777777778, \"#fb9f3a\"], [0.8888888888888888, \"#fdca26\"], [1.0, \"#f0f921\"]], \"type\": \"contour\"}], \"contourcarpet\": [{\"colorbar\": {\"outlinewidth\": 0, \"ticks\": \"\"}, \"type\": \"contourcarpet\"}], \"heatmap\": [{\"colorbar\": {\"outlinewidth\": 0, \"ticks\": \"\"}, \"colorscale\": [[0.0, \"#0d0887\"], [0.1111111111111111, \"#46039f\"], [0.2222222222222222, \"#7201a8\"], [0.3333333333333333, \"#9c179e\"], [0.4444444444444444, \"#bd3786\"], [0.5555555555555556, \"#d8576b\"], [0.6666666666666666, \"#ed7953\"], [0.7777777777777778, \"#fb9f3a\"], [0.8888888888888888, \"#fdca26\"], [1.0, \"#f0f921\"]], \"type\": \"heatmap\"}], \"heatmapgl\": [{\"colorbar\": {\"outlinewidth\": 0, \"ticks\": \"\"}, \"colorscale\": [[0.0, \"#0d0887\"], [0.1111111111111111, \"#46039f\"], [0.2222222222222222, \"#7201a8\"], [0.3333333333333333, \"#9c179e\"], [0.4444444444444444, \"#bd3786\"], [0.5555555555555556, \"#d8576b\"], [0.6666666666666666, \"#ed7953\"], [0.7777777777777778, \"#fb9f3a\"], [0.8888888888888888, \"#fdca26\"], [1.0, \"#f0f921\"]], \"type\": \"heatmapgl\"}], \"histogram\": [{\"marker\": {\"colorbar\": {\"outlinewidth\": 0, \"ticks\": \"\"}}, \"type\": \"histogram\"}], \"histogram2d\": [{\"colorbar\": {\"outlinewidth\": 0, \"ticks\": \"\"}, \"colorscale\": [[0.0, \"#0d0887\"], [0.1111111111111111, \"#46039f\"], [0.2222222222222222, \"#7201a8\"], [0.3333333333333333, \"#9c179e\"], [0.4444444444444444, \"#bd3786\"], [0.5555555555555556, \"#d8576b\"], [0.6666666666666666, \"#ed7953\"], [0.7777777777777778, \"#fb9f3a\"], [0.8888888888888888, \"#fdca26\"], [1.0, \"#f0f921\"]], \"type\": \"histogram2d\"}], \"histogram2dcontour\": [{\"colorbar\": {\"outlinewidth\": 0, \"ticks\": \"\"}, \"colorscale\": [[0.0, \"#0d0887\"], [0.1111111111111111, \"#46039f\"], [0.2222222222222222, \"#7201a8\"], [0.3333333333333333, \"#9c179e\"], [0.4444444444444444, \"#bd3786\"], [0.5555555555555556, \"#d8576b\"], [0.6666666666666666, \"#ed7953\"], [0.7777777777777778, \"#fb9f3a\"], [0.8888888888888888, \"#fdca26\"], [1.0, \"#f0f921\"]], \"type\": \"histogram2dcontour\"}], \"mesh3d\": [{\"colorbar\": {\"outlinewidth\": 0, \"ticks\": \"\"}, \"type\": \"mesh3d\"}], \"parcoords\": [{\"line\": {\"colorbar\": {\"outlinewidth\": 0, \"ticks\": \"\"}}, \"type\": \"parcoords\"}], \"pie\": [{\"automargin\": true, \"type\": \"pie\"}], \"scatter\": [{\"marker\": {\"colorbar\": {\"outlinewidth\": 0, \"ticks\": \"\"}}, \"type\": \"scatter\"}], \"scatter3d\": [{\"line\": {\"colorbar\": {\"outlinewidth\": 0, \"ticks\": \"\"}}, \"marker\": {\"colorbar\": {\"outlinewidth\": 0, \"ticks\": \"\"}}, \"type\": \"scatter3d\"}], \"scattercarpet\": [{\"marker\": {\"colorbar\": {\"outlinewidth\": 0, \"ticks\": \"\"}}, \"type\": \"scattercarpet\"}], \"scattergeo\": [{\"marker\": {\"colorbar\": {\"outlinewidth\": 0, \"ticks\": \"\"}}, \"type\": \"scattergeo\"}], \"scattergl\": [{\"marker\": {\"colorbar\": {\"outlinewidth\": 0, \"ticks\": \"\"}}, \"type\": \"scattergl\"}], \"scattermapbox\": [{\"marker\": {\"colorbar\": {\"outlinewidth\": 0, \"ticks\": \"\"}}, \"type\": \"scattermapbox\"}], \"scatterpolar\": [{\"marker\": {\"colorbar\": {\"outlinewidth\": 0, \"ticks\": \"\"}}, \"type\": \"scatterpolar\"}], \"scatterpolargl\": [{\"marker\": {\"colorbar\": {\"outlinewidth\": 0, \"ticks\": \"\"}}, \"type\": \"scatterpolargl\"}], \"scatterternary\": [{\"marker\": {\"colorbar\": {\"outlinewidth\": 0, \"ticks\": \"\"}}, \"type\": \"scatterternary\"}], \"surface\": [{\"colorbar\": {\"outlinewidth\": 0, \"ticks\": \"\"}, \"colorscale\": [[0.0, \"#0d0887\"], [0.1111111111111111, \"#46039f\"], [0.2222222222222222, \"#7201a8\"], [0.3333333333333333, \"#9c179e\"], [0.4444444444444444, \"#bd3786\"], [0.5555555555555556, \"#d8576b\"], [0.6666666666666666, \"#ed7953\"], [0.7777777777777778, \"#fb9f3a\"], [0.8888888888888888, \"#fdca26\"], [1.0, \"#f0f921\"]], \"type\": \"surface\"}], \"table\": [{\"cells\": {\"fill\": {\"color\": \"#EBF0F8\"}, \"line\": {\"color\": \"white\"}}, \"header\": {\"fill\": {\"color\": \"#C8D4E3\"}, \"line\": {\"color\": \"white\"}}, \"type\": \"table\"}]}, \"layout\": {\"annotationdefaults\": {\"arrowcolor\": \"#2a3f5f\", \"arrowhead\": 0, \"arrowwidth\": 1}, \"coloraxis\": {\"colorbar\": {\"outlinewidth\": 0, \"ticks\": \"\"}}, \"colorscale\": {\"diverging\": [[0, \"#8e0152\"], [0.1, \"#c51b7d\"], [0.2, \"#de77ae\"], [0.3, \"#f1b6da\"], [0.4, \"#fde0ef\"], [0.5, \"#f7f7f7\"], [0.6, \"#e6f5d0\"], [0.7, \"#b8e186\"], [0.8, \"#7fbc41\"], [0.9, \"#4d9221\"], [1, \"#276419\"]], \"sequential\": [[0.0, \"#0d0887\"], [0.1111111111111111, \"#46039f\"], [0.2222222222222222, \"#7201a8\"], [0.3333333333333333, \"#9c179e\"], [0.4444444444444444, \"#bd3786\"], [0.5555555555555556, \"#d8576b\"], [0.6666666666666666, \"#ed7953\"], [0.7777777777777778, \"#fb9f3a\"], [0.8888888888888888, \"#fdca26\"], [1.0, \"#f0f921\"]], \"sequentialminus\": [[0.0, \"#0d0887\"], [0.1111111111111111, \"#46039f\"], [0.2222222222222222, \"#7201a8\"], [0.3333333333333333, \"#9c179e\"], [0.4444444444444444, \"#bd3786\"], [0.5555555555555556, \"#d8576b\"], [0.6666666666666666, \"#ed7953\"], [0.7777777777777778, \"#fb9f3a\"], [0.8888888888888888, \"#fdca26\"], [1.0, \"#f0f921\"]]}, \"colorway\": [\"#636efa\", \"#EF553B\", \"#00cc96\", \"#ab63fa\", \"#FFA15A\", \"#19d3f3\", \"#FF6692\", \"#B6E880\", \"#FF97FF\", \"#FECB52\"], \"font\": {\"color\": \"#2a3f5f\"}, \"geo\": {\"bgcolor\": \"white\", \"lakecolor\": \"white\", \"landcolor\": \"#E5ECF6\", \"showlakes\": true, \"showland\": true, \"subunitcolor\": \"white\"}, \"hoverlabel\": {\"align\": \"left\"}, \"hovermode\": \"closest\", \"mapbox\": {\"style\": \"light\"}, \"paper_bgcolor\": \"white\", \"plot_bgcolor\": \"#E5ECF6\", \"polar\": {\"angularaxis\": {\"gridcolor\": \"white\", \"linecolor\": \"white\", \"ticks\": \"\"}, \"bgcolor\": \"#E5ECF6\", \"radialaxis\": {\"gridcolor\": \"white\", \"linecolor\": \"white\", \"ticks\": \"\"}}, \"scene\": {\"xaxis\": {\"backgroundcolor\": \"#E5ECF6\", \"gridcolor\": \"white\", \"gridwidth\": 2, \"linecolor\": \"white\", \"showbackground\": true, \"ticks\": \"\", \"zerolinecolor\": \"white\"}, \"yaxis\": {\"backgroundcolor\": \"#E5ECF6\", \"gridcolor\": \"white\", \"gridwidth\": 2, \"linecolor\": \"white\", \"showbackground\": true, \"ticks\": \"\", \"zerolinecolor\": \"white\"}, \"zaxis\": {\"backgroundcolor\": \"#E5ECF6\", \"gridcolor\": \"white\", \"gridwidth\": 2, \"linecolor\": \"white\", \"showbackground\": true, \"ticks\": \"\", \"zerolinecolor\": \"white\"}}, \"shapedefaults\": {\"line\": {\"color\": \"#2a3f5f\"}}, \"ternary\": {\"aaxis\": {\"gridcolor\": \"white\", \"linecolor\": \"white\", \"ticks\": \"\"}, \"baxis\": {\"gridcolor\": \"white\", \"linecolor\": \"white\", \"ticks\": \"\"}, \"bgcolor\": \"#E5ECF6\", \"caxis\": {\"gridcolor\": \"white\", \"linecolor\": \"white\", \"ticks\": \"\"}}, \"title\": {\"x\": 0.05}, \"xaxis\": {\"automargin\": true, \"gridcolor\": \"white\", \"linecolor\": \"white\", \"ticks\": \"\", \"title\": {\"standoff\": 15}, \"zerolinecolor\": \"white\", \"zerolinewidth\": 2}, \"yaxis\": {\"automargin\": true, \"gridcolor\": \"white\", \"linecolor\": \"white\", \"ticks\": \"\", \"title\": {\"standoff\": 15}, \"zerolinecolor\": \"white\", \"zerolinewidth\": 2}}}},\n                        {\"responsive\": true}\n                    ).then(function(){\n                            \nvar gd = document.getElementById('d72b1fcf-a688-4947-9a24-a5f4ff610110');\nvar x = new MutationObserver(function (mutations, observer) {{\n        var display = window.getComputedStyle(gd).display;\n        if (!display || display === 'none') {{\n            console.log([gd, 'removed!']);\n            Plotly.purge(gd);\n            observer.disconnect();\n        }}\n}});\n\n// Listen for the removal of the full notebook cells\nvar notebookContainer = gd.closest('#notebook-container');\nif (notebookContainer) {{\n    x.observe(notebookContainer, {childList: true});\n}}\n\n// Listen for the clearing of the current output cell\nvar outputEl = gd.closest('.output');\nif (outputEl) {{\n    x.observe(outputEl, {childList: true});\n}}\n\n                        })\n                };\n                });\n            </script>\n        </div>"
     },
     "metadata": {}
    }
   ],
   "source": [
    "fig = px.scatter_mapbox(weather_stations, lat=\"latitud\", lon=\"longitud\", color=\"altitud\",\n",
    "                  color_continuous_scale=px.colors.cyclical.IceFire, size_max=15, zoom=10,\n",
    "                  mapbox_style=\"carto-positron\")\n",
    "fig.show()"
   ]
  },
  {
   "cell_type": "code",
   "execution_count": 8,
   "metadata": {},
   "outputs": [
    {
     "output_type": "execute_result",
     "data": {
      "text/plain": [
       "         station        date  SO_2   CO    NO  NO_2  PM10    NOx   O_3   TOL  \\\n",
       "0       28079004  2001-01-01  17.0  0.8  45.0  58.0   NaN  127.0   NaN   NaN   \n",
       "1       28079008  2001-01-01  11.0  1.0  59.0  53.0  20.0  143.0  21.0  10.2   \n",
       "2       28079011  2001-01-01   NaN  NaN  46.0  45.0   NaN  115.0   NaN   NaN   \n",
       "3       28079016  2001-01-01   NaN  0.6  23.0  47.0   NaN   82.0  23.0   NaN   \n",
       "4       28079017  2001-01-01  12.0  NaN  61.0  46.0   NaN  140.0  23.0   NaN   \n",
       "...          ...         ...   ...  ...   ...   ...   ...    ...   ...   ...   \n",
       "135136  28079056  2020-12-31   NaN  0.3  35.0  40.0  10.0   94.0  38.0   NaN   \n",
       "135137  28079057  2020-12-31   2.0  0.4  21.0  40.0  12.0   72.0   NaN   NaN   \n",
       "135138  28079058  2020-12-31   NaN  NaN   4.0  11.0   NaN   16.0  39.0   NaN   \n",
       "135139  28079059  2020-12-31   NaN  NaN   4.0  20.0   NaN   25.0  25.0   NaN   \n",
       "135140  28079060  2020-12-31   NaN  NaN  11.0  35.0   6.0   52.0  38.0   NaN   \n",
       "\n",
       "        BEN  EBE  TCH  CH4  NMHC  PM25  \n",
       "0       NaN  NaN  NaN  NaN   NaN   NaN  \n",
       "1       4.2  2.3  NaN  NaN   NaN   NaN  \n",
       "2       NaN  NaN  NaN  NaN   NaN   NaN  \n",
       "3       NaN  NaN  NaN  NaN   NaN   NaN  \n",
       "4       NaN  NaN  NaN  NaN   NaN   NaN  \n",
       "...     ...  ...  ...  ...   ...   ...  \n",
       "135136  NaN  NaN  NaN  NaN   NaN   7.0  \n",
       "135137  NaN  NaN  NaN  NaN   NaN   NaN  \n",
       "135138  NaN  NaN  NaN  NaN   NaN   NaN  \n",
       "135139  NaN  NaN  NaN  NaN   NaN   NaN  \n",
       "135140  NaN  NaN  NaN  NaN   NaN   NaN  \n",
       "\n",
       "[135141 rows x 16 columns]"
      ],
      "text/html": "<div>\n<style scoped>\n    .dataframe tbody tr th:only-of-type {\n        vertical-align: middle;\n    }\n\n    .dataframe tbody tr th {\n        vertical-align: top;\n    }\n\n    .dataframe thead th {\n        text-align: right;\n    }\n</style>\n<table border=\"1\" class=\"dataframe\">\n  <thead>\n    <tr style=\"text-align: right;\">\n      <th></th>\n      <th>station</th>\n      <th>date</th>\n      <th>SO_2</th>\n      <th>CO</th>\n      <th>NO</th>\n      <th>NO_2</th>\n      <th>PM10</th>\n      <th>NOx</th>\n      <th>O_3</th>\n      <th>TOL</th>\n      <th>BEN</th>\n      <th>EBE</th>\n      <th>TCH</th>\n      <th>CH4</th>\n      <th>NMHC</th>\n      <th>PM25</th>\n    </tr>\n  </thead>\n  <tbody>\n    <tr>\n      <th>0</th>\n      <td>28079004</td>\n      <td>2001-01-01</td>\n      <td>17.0</td>\n      <td>0.8</td>\n      <td>45.0</td>\n      <td>58.0</td>\n      <td>NaN</td>\n      <td>127.0</td>\n      <td>NaN</td>\n      <td>NaN</td>\n      <td>NaN</td>\n      <td>NaN</td>\n      <td>NaN</td>\n      <td>NaN</td>\n      <td>NaN</td>\n      <td>NaN</td>\n    </tr>\n    <tr>\n      <th>1</th>\n      <td>28079008</td>\n      <td>2001-01-01</td>\n      <td>11.0</td>\n      <td>1.0</td>\n      <td>59.0</td>\n      <td>53.0</td>\n      <td>20.0</td>\n      <td>143.0</td>\n      <td>21.0</td>\n      <td>10.2</td>\n      <td>4.2</td>\n      <td>2.3</td>\n      <td>NaN</td>\n      <td>NaN</td>\n      <td>NaN</td>\n      <td>NaN</td>\n    </tr>\n    <tr>\n      <th>2</th>\n      <td>28079011</td>\n      <td>2001-01-01</td>\n      <td>NaN</td>\n      <td>NaN</td>\n      <td>46.0</td>\n      <td>45.0</td>\n      <td>NaN</td>\n      <td>115.0</td>\n      <td>NaN</td>\n      <td>NaN</td>\n      <td>NaN</td>\n      <td>NaN</td>\n      <td>NaN</td>\n      <td>NaN</td>\n      <td>NaN</td>\n      <td>NaN</td>\n    </tr>\n    <tr>\n      <th>3</th>\n      <td>28079016</td>\n      <td>2001-01-01</td>\n      <td>NaN</td>\n      <td>0.6</td>\n      <td>23.0</td>\n      <td>47.0</td>\n      <td>NaN</td>\n      <td>82.0</td>\n      <td>23.0</td>\n      <td>NaN</td>\n      <td>NaN</td>\n      <td>NaN</td>\n      <td>NaN</td>\n      <td>NaN</td>\n      <td>NaN</td>\n      <td>NaN</td>\n    </tr>\n    <tr>\n      <th>4</th>\n      <td>28079017</td>\n      <td>2001-01-01</td>\n      <td>12.0</td>\n      <td>NaN</td>\n      <td>61.0</td>\n      <td>46.0</td>\n      <td>NaN</td>\n      <td>140.0</td>\n      <td>23.0</td>\n      <td>NaN</td>\n      <td>NaN</td>\n      <td>NaN</td>\n      <td>NaN</td>\n      <td>NaN</td>\n      <td>NaN</td>\n      <td>NaN</td>\n    </tr>\n    <tr>\n      <th>...</th>\n      <td>...</td>\n      <td>...</td>\n      <td>...</td>\n      <td>...</td>\n      <td>...</td>\n      <td>...</td>\n      <td>...</td>\n      <td>...</td>\n      <td>...</td>\n      <td>...</td>\n      <td>...</td>\n      <td>...</td>\n      <td>...</td>\n      <td>...</td>\n      <td>...</td>\n      <td>...</td>\n    </tr>\n    <tr>\n      <th>135136</th>\n      <td>28079056</td>\n      <td>2020-12-31</td>\n      <td>NaN</td>\n      <td>0.3</td>\n      <td>35.0</td>\n      <td>40.0</td>\n      <td>10.0</td>\n      <td>94.0</td>\n      <td>38.0</td>\n      <td>NaN</td>\n      <td>NaN</td>\n      <td>NaN</td>\n      <td>NaN</td>\n      <td>NaN</td>\n      <td>NaN</td>\n      <td>7.0</td>\n    </tr>\n    <tr>\n      <th>135137</th>\n      <td>28079057</td>\n      <td>2020-12-31</td>\n      <td>2.0</td>\n      <td>0.4</td>\n      <td>21.0</td>\n      <td>40.0</td>\n      <td>12.0</td>\n      <td>72.0</td>\n      <td>NaN</td>\n      <td>NaN</td>\n      <td>NaN</td>\n      <td>NaN</td>\n      <td>NaN</td>\n      <td>NaN</td>\n      <td>NaN</td>\n      <td>NaN</td>\n    </tr>\n    <tr>\n      <th>135138</th>\n      <td>28079058</td>\n      <td>2020-12-31</td>\n      <td>NaN</td>\n      <td>NaN</td>\n      <td>4.0</td>\n      <td>11.0</td>\n      <td>NaN</td>\n      <td>16.0</td>\n      <td>39.0</td>\n      <td>NaN</td>\n      <td>NaN</td>\n      <td>NaN</td>\n      <td>NaN</td>\n      <td>NaN</td>\n      <td>NaN</td>\n      <td>NaN</td>\n    </tr>\n    <tr>\n      <th>135139</th>\n      <td>28079059</td>\n      <td>2020-12-31</td>\n      <td>NaN</td>\n      <td>NaN</td>\n      <td>4.0</td>\n      <td>20.0</td>\n      <td>NaN</td>\n      <td>25.0</td>\n      <td>25.0</td>\n      <td>NaN</td>\n      <td>NaN</td>\n      <td>NaN</td>\n      <td>NaN</td>\n      <td>NaN</td>\n      <td>NaN</td>\n      <td>NaN</td>\n    </tr>\n    <tr>\n      <th>135140</th>\n      <td>28079060</td>\n      <td>2020-12-31</td>\n      <td>NaN</td>\n      <td>NaN</td>\n      <td>11.0</td>\n      <td>35.0</td>\n      <td>6.0</td>\n      <td>52.0</td>\n      <td>38.0</td>\n      <td>NaN</td>\n      <td>NaN</td>\n      <td>NaN</td>\n      <td>NaN</td>\n      <td>NaN</td>\n      <td>NaN</td>\n      <td>NaN</td>\n    </tr>\n  </tbody>\n</table>\n<p>135141 rows × 16 columns</p>\n</div>"
     },
     "metadata": {},
     "execution_count": 8
    }
   ],
   "source": [
    "air_quality = pd.read_csv(\"../data/processed/air-quality.csv\")\n",
    "air_quality"
   ]
  },
  {
   "cell_type": "code",
   "execution_count": 58,
   "metadata": {},
   "outputs": [
    {
     "output_type": "execute_result",
     "data": {
      "text/plain": [
       "station\n",
       "28079004    0.415934\n",
       "28079008    0.274425\n",
       "28079011         NaN\n",
       "28079016    0.294247\n",
       "28079017         NaN\n",
       "28079018    0.468320\n",
       "28079024    0.207163\n",
       "28079027         NaN\n",
       "28079035    0.444193\n",
       "28079036    0.302747\n",
       "28079038         NaN\n",
       "28079039    0.330220\n",
       "28079040         NaN\n",
       "28079047         NaN\n",
       "28079048         NaN\n",
       "28079049         NaN\n",
       "28079050         NaN\n",
       "28079054         NaN\n",
       "28079055         NaN\n",
       "28079056    0.326870\n",
       "28079057    0.277654\n",
       "28079058         NaN\n",
       "28079059         NaN\n",
       "28079060         NaN\n",
       "Name: CO, dtype: float64"
      ]
     },
     "metadata": {},
     "execution_count": 58
    }
   ],
   "source": [
    "air_quality['date']= pd.to_datetime(air_quality['date'])\n",
    "air_quality[air_quality['date'].dt.year == 2019].groupby('station').mean()['CO']"
   ]
  },
  {
   "cell_type": "code",
   "execution_count": 56,
   "metadata": {},
   "outputs": [
    {
     "output_type": "execute_result",
     "data": {
      "text/plain": [
       "1.449130408404381"
      ]
     },
     "metadata": {},
     "execution_count": 56
    }
   ],
   "source": [
    "weather['date']= pd.to_datetime(weather['date'])\n",
    "weather[weather['date'].dt.year == 2019].groupby('date').mean()['rainfall'].mean()"
   ]
  }
 ]
}